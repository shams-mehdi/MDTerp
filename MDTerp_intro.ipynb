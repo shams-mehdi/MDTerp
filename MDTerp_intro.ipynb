{
 "cells": [
  {
   "cell_type": "code",
   "execution_count": 2,
   "id": "3a62b104-933b-4767-a63a-d5deadf2fa99",
   "metadata": {},
   "outputs": [],
   "source": [
    "import MDTerp.base"
   ]
  },
  {
   "cell_type": "code",
   "execution_count": null,
   "id": "01dbc80d-85b5-435d-88c0-d4e7a6446d48",
   "metadata": {},
   "outputs": [],
   "source": []
  },
  {
   "cell_type": "code",
   "execution_count": null,
   "id": "d132b85b-1949-4578-83ff-ae2c47e9d106",
   "metadata": {},
   "outputs": [],
   "source": []
  },
  {
   "cell_type": "code",
   "execution_count": null,
   "id": "291198ca-c182-4fa2-b137-869c81a3f912",
   "metadata": {},
   "outputs": [],
   "source": []
  }
 ],
 "metadata": {
  "kernelspec": {
   "display_name": "Python 3 (ipykernel)",
   "language": "python",
   "name": "python3"
  },
  "language_info": {
   "codemirror_mode": {
    "name": "ipython",
    "version": 3
   },
   "file_extension": ".py",
   "mimetype": "text/x-python",
   "name": "python",
   "nbconvert_exporter": "python",
   "pygments_lexer": "ipython3",
   "version": "3.11.12"
  }
 },
 "nbformat": 4,
 "nbformat_minor": 5
}
